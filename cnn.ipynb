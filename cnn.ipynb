{
 "cells": [
  {
   "cell_type": "code",
   "execution_count": 1,
   "id": "039e5a10",
   "metadata": {},
   "outputs": [],
   "source": [
    "#3 cnn Build the Image classification model by dividing the model into following 4 stages\n"
   ]
  },
  {
   "cell_type": "code",
   "execution_count": 3,
   "id": "b1f5b1fd",
   "metadata": {},
   "outputs": [],
   "source": [
    "#importing libraries \n",
    "import numpy as np \n",
    "import pandas as pd \n",
    "import matplotlib.pyplot as plt \n",
    "import random \n",
    "import tensorflow as tf \n",
    "from tensorflow.keras.models import Sequential \n",
    "from tensorflow.keras.layers import Flatten,Dense,Conv2D,MaxPooling2D\n",
    "from tensorflow.keras.optimizers import SGD\n",
    "from tensorflow.keras.utils import to_categorical\n",
    "from tensorflow.keras.datasets import mnist\n",
    "\n",
    "\n",
    "\n",
    "\n"
   ]
  },
  {
   "cell_type": "code",
   "execution_count": 4,
   "id": "b63f816a",
   "metadata": {},
   "outputs": [],
   "source": [
    "#load dataset mnist\n",
    "(x_train,y_train),(x_test,y_test) = mnist.load_data()"
   ]
  },
  {
   "cell_type": "code",
   "execution_count": 5,
   "id": "01268e0a",
   "metadata": {},
   "outputs": [
    {
     "name": "stdout",
     "output_type": "stream",
     "text": [
      "(60000, 28, 28)\n"
     ]
    }
   ],
   "source": [
    "print(x_train.shape) \n",
    "# (BATCH SIZE, HEIGHT, WIDTH)"
   ]
  },
  {
   "cell_type": "code",
   "execution_count": 7,
   "id": "82d99cc1",
   "metadata": {},
   "outputs": [
    {
     "data": {
      "text/plain": [
       "(0, 255)"
      ]
     },
     "execution_count": 7,
     "metadata": {},
     "output_type": "execute_result"
    }
   ],
   "source": [
    "x_train[0].min(), x_train[0].max() \n",
    "# (PIXEL INTENSITY) (0 = BLACK, 255 = WHITE)"
   ]
  },
  {
   "cell_type": "code",
   "execution_count": 8,
   "id": "7b7ca6d1",
   "metadata": {},
   "outputs": [],
   "source": [
    "# normalixe the pixels of the images by scalin it to the range (0-1) \n",
    "x_train= x_train/255\n",
    "x_test = x_test/255"
   ]
  },
  {
   "cell_type": "code",
   "execution_count": 12,
   "id": "e86e2c88",
   "metadata": {},
   "outputs": [
    {
     "data": {
      "image/png": "[encoded data removed]",
      "text/plain": [
       "<Figure size 432x288 with 1 Axes>"
      ]
     },
     "metadata": {},
     "output_type": "display_data"
    },
    {
     "data": {
      "image/png": "[encoded data removed]",
      "text/plain": [
       "<Figure size 1152x720 with 1 Axes>"
      ]
     },
     "metadata": {},
     "output_type": "display_data"
    },
    {
     "data": {
      "image/png": "[encoded data removed]",
      "text/plain": [
       "<Figure size 1152x720 with 1 Axes>"
      ]
     },
     "metadata": {},
     "output_type": "display_data"
    },
    {
     "data": {
      "image/png": "[encoded data removed]",
      "text/plain": [
       "<Figure size 1152x720 with 1 Axes>"
      ]
     },
     "metadata": {},
     "output_type": "display_data"
    },
    {
     "data": {
      "image/png": "[encoded data removed]",
      "text/plain": [
       "<Figure size 1152x720 with 1 Axes>"
      ]
     },
     "metadata": {},
     "output_type": "display_data"
    },
    {
     "data": {
      "text/plain": [
       "<Figure size 1152x720 with 0 Axes>"
      ]
     },
     "metadata": {},
     "output_type": "display_data"
    }
   ],
   "source": [
    "def plot_digit(image, digit, plt, i):\n",
    "    plt.subplot(4, 5, i + 1)\n",
    "    plt.imshow(image, cmap=plt.get_cmap('gray'))\n",
    "    plt.title(f\"Digit: {digit}\")\n",
    "    plt.xticks([])\n",
    "    plt.yticks([])\n",
    "    plt.figure(figsize=(16, 10))\n",
    "for i in range(5):\n",
    " plot_digit(x_train[i], y_train[i], plt, i)\n",
    "plt.show()"
   ]
  },
  {
   "cell_type": "code",
   "execution_count": 13,
   "id": "a27dd436",
   "metadata": {},
   "outputs": [],
   "source": [
    "x_train = x_train.reshape((x_train.shape + (1,)))\n",
    "x_test = x_test.reshape((x_test.shape + (1,)))"
   ]
  },
  {
   "cell_type": "code",
   "execution_count": 14,
   "id": "d1a9aa1f",
   "metadata": {},
   "outputs": [
    {
     "data": {
      "text/plain": [
       "array([5, 0, 4, 1, 9, 2, 1, 3, 1, 4, 3, 5, 3, 6, 1, 7, 2, 8, 6, 9],\n",
       "      dtype=uint8)"
      ]
     },
     "execution_count": 14,
     "metadata": {},
     "output_type": "execute_result"
    }
   ],
   "source": [
    "y_train[0:20]"
   ]
  },
  {
   "cell_type": "code",
   "execution_count": 15,
   "id": "d9eb05c8",
   "metadata": {},
   "outputs": [],
   "source": [
    "model = Sequential([\n",
    "    Conv2D(32,(3,3),activation='relu',input_shape =(28,28,1)),\n",
    "    MaxPooling2D((2,2)),\n",
    "    Flatten(),\n",
    "    Dense(100,activation='relu'),\n",
    "    Dense(10,activation='softmax')\n",
    "])"
   ]
  },
  {
   "cell_type": "code",
   "execution_count": 18,
   "id": "a088d36e",
   "metadata": {},
   "outputs": [],
   "source": [
    "optimizer = SGD(learning_rate=0.01, momentum=0.9)\n",
    "model.compile(\n",
    "optimizer=optimizer,\n",
    "loss=\"sparse_categorical_crossentropy\",\n",
    "metrics=[\"accuracy\"]\n",
    ")\n"
   ]
  },
  {
   "cell_type": "code",
   "execution_count": 19,
   "id": "fe09e273",
   "metadata": {},
   "outputs": [
    {
     "name": "stdout",
     "output_type": "stream",
     "text": [
      "Model: \"sequential\"\n",
      "_________________________________________________________________\n",
      " Layer (type)                Output Shape              Param #   \n",
      "=================================================================\n",
      " conv2d (Conv2D)             (None, 26, 26, 32)        320       \n",
      "                                                                 \n",
      " max_pooling2d (MaxPooling2  (None, 13, 13, 32)        0         \n",
      " D)                                                              \n",
      "                                                                 \n",
      " flatten (Flatten)           (None, 5408)              0         \n",
      "                                                                 \n",
      " dense (Dense)               (None, 100)               540900    \n",
      "                                                                 \n",
      " dense_1 (Dense)             (None, 10)                1010      \n",
      "                                                                 \n",
      "=================================================================\n",
      "Total params: 542230 (2.07 MB)\n",
      "Trainable params: 542230 (2.07 MB)\n",
      "Non-trainable params: 0 (0.00 Byte)\n",
      "_________________________________________________________________\n"
     ]
    }
   ],
   "source": [
    "model.summary()"
   ]
  },
  {
   "cell_type": "code",
   "execution_count": 22,
   "id": "c8824432",
   "metadata": {},
   "outputs": [
    {
     "name": "stdout",
     "output_type": "stream",
     "text": [
      "Epoch 1/10\n",
      "1875/1875 [==============================] - 63s 27ms/step - loss: 0.2245 - accuracy: 0.9332\n",
      "Epoch 2/10\n",
      "1875/1875 [==============================] - 42s 23ms/step - loss: 0.0743 - accuracy: 0.9777\n",
      "Epoch 3/10\n",
      "1875/1875 [==============================] - 44s 23ms/step - loss: 0.0477 - accuracy: 0.9857\n",
      "Epoch 4/10\n",
      "1875/1875 [==============================] - 44s 24ms/step - loss: 0.0333 - accuracy: 0.9897\n",
      "Epoch 5/10\n",
      "1875/1875 [==============================] - 43s 23ms/step - loss: 0.0252 - accuracy: 0.9921\n",
      "Epoch 6/10\n",
      "1875/1875 [==============================] - 42s 22ms/step - loss: 0.0178 - accuracy: 0.9945\n",
      "Epoch 7/10\n",
      "1875/1875 [==============================] - 48s 26ms/step - loss: 0.0133 - accuracy: 0.9964\n",
      "Epoch 8/10\n",
      "1875/1875 [==============================] - 50s 27ms/step - loss: 0.0091 - accuracy: 0.9977\n",
      "Epoch 9/10\n",
      "1875/1875 [==============================] - 50s 26ms/step - loss: 0.0072 - accuracy: 0.9980\n",
      "Epoch 10/10\n",
      "1875/1875 [==============================] - 44s 23ms/step - loss: 0.0054 - accuracy: 0.9987\n"
     ]
    },
    {
     "data": {
      "text/plain": [
       "<keras.src.callbacks.History at 0x1c83fa65d90>"
      ]
     },
     "execution_count": 22,
     "metadata": {},
     "output_type": "execute_result"
    }
   ],
   "source": [
    "model.fit(x_train,y_train,epochs = 10, batch_size= 32)"
   ]
  },
  {
   "cell_type": "code",
   "execution_count": 24,
   "id": "9099021b",
   "metadata": {},
   "outputs": [],
   "source": [
    "score = model.evaluate(x_test, y_test, verbose=0)\n"
   ]
  },
  {
   "cell_type": "code",
   "execution_count": 25,
   "id": "fe243afc",
   "metadata": {},
   "outputs": [
    {
     "name": "stdout",
     "output_type": "stream",
     "text": [
      "Test loss: 0.04298211261630058\n"
     ]
    }
   ],
   "source": [
    "print('Test loss:',score[0]) "
   ]
  },
  {
   "cell_type": "code",
   "execution_count": 26,
   "id": "7e724472",
   "metadata": {},
   "outputs": [
    {
     "name": "stdout",
     "output_type": "stream",
     "text": [
      "Test accuracy: 0.9869999885559082\n"
     ]
    }
   ],
   "source": [
    "print('Test accuracy:',score[1]) "
   ]
  },
  {
   "cell_type": "code",
   "execution_count": null,
   "id": "fa2f1fdc",
   "metadata": {},
   "outputs": [],
   "source": []
  }
 ],
 "metadata": {
  "kernelspec": {
   "display_name": "Python 3 (ipykernel)",
   "language": "python",
   "name": "python3"
  },
  "language_info": {
   "codemirror_mode": {
    "name": "ipython",
    "version": 3
   },
   "file_extension": ".py",
   "mimetype": "text/x-python",
   "name": "python",
   "nbconvert_exporter": "python",
   "pygments_lexer": "ipython3",
   "version": "3.9.13"
  }
 },
 "nbformat": 4,
 "nbformat_minor": 5
}
